{
 "cells": [
  {
   "cell_type": "code",
   "execution_count": 161,
   "id": "84cf73e0",
   "metadata": {},
   "outputs": [],
   "source": [
    "import numpy as np\n",
    "from sklearn.datasets import load_iris\n",
    "from sklearn.model_selection import train_test_split\n",
    "from sklearn.naive_bayes import GaussianNB\n",
    "from sklearn.naive_bayes import MultinomialNB\n",
    "from sklearn.tree import DecisionTreeClassifier\n",
    "from sklearn.ensemble import RandomForestClassifier\n",
    "from sklearn.neighbors import KNeighborsClassifier\n",
    "from sklearn.ensemble import GradientBoostingClassifier\n",
    "from sklearn.metrics import accuracy_score, classification_report\n",
    "\n",
    "traindata = 'traindata.txt'\n",
    "data = np.loadtxt(traindata, dtype = str)\n",
    "new_data = []\n",
    "for i in range(len(data)):\n",
    "    data_row = []\n",
    "    inte = \"\"\n",
    "    for j in data[i]:\n",
    "        if j == ',':\n",
    "            data_row.append(float(inte))\n",
    "            inte = ''\n",
    "        else:\n",
    "            inte = inte + j\n",
    "    new_data.append(data_row)\n",
    "data = np.array(new_data)\n",
    "# print(data)"
   ]
  },
  {
   "cell_type": "code",
   "execution_count": 162,
   "id": "e6738954",
   "metadata": {},
   "outputs": [],
   "source": [
    "tranlabel = 'trainlabels.txt'\n",
    "labels = np.loadtxt(tranlabel, dtype = int)"
   ]
  },
  {
   "cell_type": "code",
   "execution_count": 163,
   "id": "3493078a",
   "metadata": {},
   "outputs": [],
   "source": [
    "train_data, test_data, train_labels, test_labels = train_test_split(data, labels, test_size=0.2, random_state=0)"
   ]
  },
  {
   "cell_type": "code",
   "execution_count": 164,
   "id": "c912c0e1",
   "metadata": {},
   "outputs": [
    {
     "name": "stdout",
     "output_type": "stream",
     "text": [
      "[0.01302833 0.01394379 0.01236918 0.01275119 0.01318005 0.01315743\n",
      " 0.01295711 0.01292341 0.01572081 0.01718926 0.01359436 0.01304173\n",
      " 0.01552747 0.01597404 0.01294864 0.01318447 0.01571265 0.01609256\n",
      " 0.01422699 0.01313435 0.01665798 0.01872518 0.01370034 0.01325431\n",
      " 0.0189599  0.01537159 0.01526802 0.01313614 0.01666667 0.01680975\n",
      " 0.01305755 0.01307955 0.01638929 0.01657741 0.0146428  0.01327292\n",
      " 0.01670937 0.01634848 0.01437627 0.01288285 0.01632029 0.01399199\n",
      " 0.01428497 0.01320313 0.01726364 0.01606609 0.01499606 0.01327038\n",
      " 0.01702323 0.01471767 0.01298798 0.01272856 0.01452988 0.01439604\n",
      " 0.0138347  0.01290912 0.0140712  0.01405389 0.01296892 0.01320594\n",
      " 0.01340586 0.01559423 0.01335234 0.01321891 0.03141994 0.00885736\n",
      " 0.00886221 0.00887223 0.00877614 0.00427291]\n",
      "[-0.33 -0.19 -0.44  0.22  0.05  0.48 -0.05 -0.25 -0.12  0.22  0.62  0.12\n",
      "  0.04  0.71 -0.79 -0.67 -0.27  0.47  0.12 -0.51  0.68  0.   -0.13 -0.38\n",
      " -0.6   1.62  0.36  0.13 -0.86  1.3  -0.12  0.31  0.09  1.73  0.57  1.3\n",
      "  1.57  0.79 -0.15  0.35  0.69 -0.08  0.5   0.06  0.85  0.62  0.9  -0.01\n",
      "  1.02  0.94  0.19 -0.8   0.03  1.06  0.13 -0.33  0.29  0.08 -0.73  0.07\n",
      "  1.42 -0.47 -0.08  0.46  0.    3.    3.    2.    9.    0.  ]\n",
      "[64 24 21 44  9 48 29 36 28 20 33 32 37 40 17 45 13  8 16 61 12 25 26 46\n",
      " 49 34 52 53 38 42 18 56 57 41  1 54 22 10 60 62 35 47 23 63 59 43 15  4\n",
      "  5 27 19 31 30 11  0 50 58  6 14  7 55 39  3 51  2 67 66 65 68 69]\n",
      "[2 1 7 ... 9 0 7]\n",
      "[2 9 9 ... 9 4 7]\n"
     ]
    }
   ],
   "source": [
    "# k is the number of features to use\n",
    "k = 26\n",
    "\n",
    "# gnb = GaussianNB()\n",
    "# dtc = DecisionTreeClassifier()\n",
    "rfc = RandomForestClassifier()\n",
    "# knn = KNeighborsClassifier()\n",
    "# model = GradientBoostingClassifier(n_estimators=100, learning_rate=0.1, max_depth=3)\n",
    "# mnb = MultinomialNB(alpha=1.0)\n",
    "\n",
    "# knn.fit(train_data, train_labels)\n",
    "# gnb.fit(train_data, train_labels)\n",
    "# dtc.fit(train_data, train_labels)\n",
    "rfc.fit(train_data, train_labels)\n",
    "# model.fit(train_data, train_labels)\n",
    "# mnb.fit(train_data, train_labels)\n",
    "# print(rfc)\n",
    "\n",
    "# Get feature importances\n",
    "importances = rfc.feature_importances_\n",
    "print(importances)\n",
    "print(train_data[0])\n",
    "# Select top k features based on importance scores\n",
    "modified_rfc = np.argsort(importances)[::-1]\n",
    "\n",
    "print(modified_rfc)\n",
    "selected_rfc = modified_rfc[:k]\n",
    "# print(selected_rfc)\n",
    "train_data = train_data[:, selected_rfc]\n",
    "test_data = test_data[:,selected_rfc]\n",
    "# #print(train_data)\n",
    "\n",
    "rfc.fit(train_data, train_labels)\n",
    "\n",
    "# test_prediction = knn.predict(test_data)\n",
    "# test_prediction = dtc.predict(test_data)\n",
    "test_prediction = rfc.predict(test_data)\n",
    "# test_prediction = model.predict(test_data)\n",
    "# test_prediction = gnb.predict(test_data)\n",
    "# test_prediction = mnb.predict(test_data)\n",
    "print(test_prediction)\n",
    "print(test_labels)"
   ]
  },
  {
   "cell_type": "code",
   "execution_count": 165,
   "id": "fb1baeaa",
   "metadata": {},
   "outputs": [
    {
     "name": "stdout",
     "output_type": "stream",
     "text": [
      "0.467\n",
      "              precision    recall  f1-score   support\n",
      "\n",
      "           0       0.46      0.57      0.51       211\n",
      "           1       0.47      0.53      0.50       211\n",
      "           2       0.51      0.53      0.52       191\n",
      "           3       0.47      0.54      0.50       209\n",
      "           4       0.46      0.52      0.49       183\n",
      "           5       0.46      0.37      0.41       190\n",
      "           6       0.41      0.29      0.34       208\n",
      "           7       0.45      0.46      0.46       194\n",
      "           8       0.47      0.43      0.45       200\n",
      "           9       0.50      0.42      0.46       203\n",
      "\n",
      "    accuracy                           0.47      2000\n",
      "   macro avg       0.47      0.47      0.46      2000\n",
      "weighted avg       0.47      0.47      0.46      2000\n",
      "\n"
     ]
    }
   ],
   "source": [
    "# missed = []\n",
    "# correct = 0\n",
    "# for prediction in range(len(test_prediction)):\n",
    "#     if test_prediction[prediction] != test_labels[prediction]:\n",
    "#         missed.append(test_data[prediction])\n",
    "#     else:\n",
    "#         correct = correct + 1\n",
    "# missed = np.array(missed)\n",
    "# print(\"The model predicted \" + str(correct) + \" correctly and predicted \" + str(len(missed)) + \" incorrectly below\")\n",
    "# print((correct / len(test_labels)) * 100)\n",
    "# print(missed)\n",
    "accuracy = accuracy_score(test_labels, test_prediction)\n",
    "print(accuracy)\n",
    "classification_report = classification_report(test_labels, test_prediction)\n",
    "print(classification_report)"
   ]
  },
  {
   "cell_type": "code",
   "execution_count": 166,
   "id": "496efb3d",
   "metadata": {},
   "outputs": [
    {
     "name": "stdout",
     "output_type": "stream",
     "text": [
      "[ 0.   -0.6   0.    0.85  0.22  1.02  1.3   1.57 -0.86  0.68  1.73  0.09\n",
      "  0.79  0.69  0.47  0.62  0.71 -0.12 -0.27 -0.47  0.04  1.62  0.36  0.9\n",
      "  0.94  0.57]\n"
     ]
    }
   ],
   "source": [
    "print (train_data[0])\n",
    "\n",
    "# import tensorflow as tf\n",
    "# from tensorflow import keras\n",
    "\n",
    "# # Define the model architecture\n",
    "# model = keras.Sequential([\n",
    "#     keras.layers.Dense(64, activation='relu', input_shape=(70,)),\n",
    "#     keras.layers.Dense(64, activation='relu'),\n",
    "#     keras.layers.Dense(10, activation='softmax')\n",
    "# ])\n",
    "\n",
    "# # Compile the model\n",
    "# model.compile(optimizer='adam',\n",
    "#               loss='sparse_categorical_crossentropy',\n",
    "#               metrics=['accuracy'])\n",
    "\n",
    "# # Train the model\n",
    "# model.fit(train_data, train_labels, epochs=8000, batch_size=1000)\n",
    "\n",
    "# # Evaluate the model\n",
    "# test_loss, test_acc = model.evaluate(test_data, test_labels)\n",
    "\n",
    "# # Make predictions\n",
    "# predictions = model.predict(test_data)\n",
    "# print(predictions)\n"
   ]
  },
  {
   "cell_type": "code",
   "execution_count": null,
   "id": "4ef91400",
   "metadata": {},
   "outputs": [],
   "source": []
  }
 ],
 "metadata": {
  "kernelspec": {
   "display_name": "Python 3 (ipykernel)",
   "language": "python",
   "name": "python3"
  },
  "language_info": {
   "codemirror_mode": {
    "name": "ipython",
    "version": 3
   },
   "file_extension": ".py",
   "mimetype": "text/x-python",
   "name": "python",
   "nbconvert_exporter": "python",
   "pygments_lexer": "ipython3",
   "version": "3.10.9"
  }
 },
 "nbformat": 4,
 "nbformat_minor": 5
}
