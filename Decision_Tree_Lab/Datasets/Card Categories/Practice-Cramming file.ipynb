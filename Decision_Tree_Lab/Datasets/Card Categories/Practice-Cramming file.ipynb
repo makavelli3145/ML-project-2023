{
 "cells": [
  {
   "cell_type": "code",
   "execution_count": null,
   "metadata": {},
   "outputs": [],
   "source": [
    "def find_feature():\n",
    "    feature_entropies =np.zeros(self.data.shape[1])\n",
    "    info_gains = np.full(self.data.shape[1],).self.node_entropy,dtype = np.flot64\n",
    "    \n",
    "    for i in range(self.data.shape[i]):\n",
    "        #print \"Working on feature :\",i\n",
    "        feature_entropies[i], _ = calc_entropy(self.lables[:,class_problem])"
   ]
  }
 ],
 "metadata": {
  "kernelspec": {
   "display_name": "Python 3",
   "language": "python",
   "name": "python3"
  },
  "language_info": {
   "codemirror_mode": {
    "name": "ipython",
    "version": 3
   },
   "file_extension": ".py",
   "mimetype": "text/x-python",
   "name": "python",
   "nbconvert_exporter": "python",
   "pygments_lexer": "ipython3",
   "version": "3.7.4"
  }
 },
 "nbformat": 4,
 "nbformat_minor": 2
}
