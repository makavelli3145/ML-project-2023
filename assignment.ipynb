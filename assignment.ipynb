{
 "cells": [
  {
   "cell_type": "code",
   "execution_count": 257,
   "metadata": {},
   "outputs": [],
   "source": [
    "import numpy as np\n",
    "import pandas as pd"
   ]
  },
  {
   "cell_type": "markdown",
   "metadata": {},
   "source": [
    "Opening the traindata.txt file and input all datapoints into the array data and convert to numpy array (traindata)"
   ]
  },
  {
   "cell_type": "code",
   "execution_count": 258,
   "metadata": {},
   "outputs": [],
   "source": [
    "train_data= open(\"traindata.txt\", \"r\")\n",
    "data=[]\n",
    "\n",
    "for line in range(0,1000):\n",
    "    data.append(train_data.readline().strip())\n",
    "\n",
    "traindata=np.array(data)\n",
    "#print(traindata)"
   ]
  },
  {
   "cell_type": "markdown",
   "metadata": {},
   "source": [
    "Opening the trainlabel.txt file and input all labels into the array labels and convert to numpy array (trainlabel)"
   ]
  },
  {
   "cell_type": "code",
   "execution_count": 259,
   "metadata": {},
   "outputs": [],
   "source": [
    "train_label=open(\"trainlabels.txt\",\"r\")\n",
    "labels=[]\n",
    "\n",
    "for line in range(0,1000):\n",
    "    labels.append(int(train_label.readline().strip()))\n",
    "trainlabel=np.array(labels)\n",
    "#print(trainlabel)"
   ]
  },
  {
   "cell_type": "markdown",
   "metadata": {},
   "source": [
    "split the feature in each datapoint and represent the training data as a 2D array of size (1000, 71)"
   ]
  },
  {
   "cell_type": "code",
   "execution_count": 279,
   "metadata": {},
   "outputs": [],
   "source": [
    "data_train=[]\n",
    "for i in range(0, 1000):\n",
    "    #if trainlabel[i] == <insert the label you want>:\n",
    "        #print(\"Datapoint\", i+1)\n",
    "        data= traindata[i].split(\",\")\n",
    "        data = [float(i) for i in data]\n",
    "        data_train.append(data)\n",
    "        '''\n",
    "        data=np.array(data)\n",
    "        #print(len(data))\n",
    "        #data= np.array(data).reshape(10,7)\n",
    "        print(data)\n",
    "        print(\"Label of data:\", trainlabel[i], \"\\n\")'''\n",
    "#print(data_train)"
   ]
  },
  {
   "cell_type": "markdown",
   "metadata": {},
   "source": [
    "### N.B: We can create a method to read the files and return an array :)"
   ]
  },
  {
   "cell_type": "code",
   "execution_count": 265,
   "metadata": {},
   "outputs": [
    {
     "name": "stdout",
     "output_type": "stream",
     "text": [
      "[[-0.26  0.43 -0.3  ...  5.    1.    1.  ]\n",
      " [-0.15 -0.24 -0.68 ...  4.    1.    1.  ]\n",
      " [ 0.74 -1.09 -0.01 ...  5.    1.    0.  ]\n",
      " ...\n",
      " [ 0.17  0.01 -0.36 ...  2.    1.   -1.  ]\n",
      " [ 0.97  1.3  -0.   ...  9.   -1.   -1.  ]\n",
      " [ 0.01  0.16  0.35 ...  1.    1.   -1.  ]]\n"
     ]
    }
   ],
   "source": [
    "data_train=np.array(data_train).reshape(1000,71)\n",
    "print(data_train)"
   ]
  },
  {
   "cell_type": "markdown",
   "metadata": {},
   "source": [
    "Now we use the gaussian naive bayes model from the sckitlearn library to fit our taining data to our training labels"
   ]
  },
  {
   "cell_type": "code",
   "execution_count": 280,
   "metadata": {},
   "outputs": [],
   "source": [
    "from sklearn.naive_bayes import GaussianNB"
   ]
  },
  {
   "cell_type": "markdown",
   "metadata": {},
   "source": [
    "Name our model GNBclf to define our gaussian NB classifier"
   ]
  },
  {
   "cell_type": "code",
   "execution_count": 281,
   "metadata": {},
   "outputs": [],
   "source": [
    "GNBclf = GaussianNB()\n"
   ]
  },
  {
   "cell_type": "markdown",
   "metadata": {},
   "source": [
    "We now get our test data and test label to check the accuracy of the model"
   ]
  },
  {
   "cell_type": "code",
   "execution_count": 282,
   "metadata": {},
   "outputs": [],
   "source": [
    "data=[]\n",
    "test_data=[]\n",
    "testdata=open(\"traindata.txt\", \"r\")\n",
    "for line in range(0,2000):\n",
    "    data.append(testdata.readline().strip())\n",
    "    if line >= 1000:\n",
    "        test_data.append(data[line])\n",
    "\n",
    "testdata=np.array(test_data)\n",
    "#print(testdata)"
   ]
  },
  {
   "cell_type": "code",
   "execution_count": 283,
   "metadata": {},
   "outputs": [],
   "source": [
    "labels=[]\n",
    "test_labels=[]\n",
    "testlabel=open(\"trainlabels.txt\", \"r\")\n",
    "for line in range(0,2000):\n",
    "    labels.append(int(testlabel.readline().strip()))\n",
    "    if line >= 1000:\n",
    "        test_labels.append(labels[line])\n",
    "testlabel=np.array(test_labels)\n",
    "#print(testlabel)"
   ]
  },
  {
   "cell_type": "code",
   "execution_count": 284,
   "metadata": {},
   "outputs": [],
   "source": [
    "data_test=[]\n",
    "for i in range(0, 1000):\n",
    "    #if trainlabel[i] == <insert the label you want>:\n",
    "        #print(\"Datapoint\", i+1)\n",
    "        data= testdata[i].split(\",\")\n",
    "        data = [float(i) for i in data]\n",
    "        data_test.append(data)\n",
    "        '''\n",
    "        data=np.array(data)\n",
    "        #print(len(data))\n",
    "        #data= np.array(data).reshape(10,7)\n",
    "        print(data)\n",
    "        print(\"Label of data:\", trainlabel[i], \"\\n\")'''\n",
    "#print(data_test)"
   ]
  },
  {
   "cell_type": "code",
   "execution_count": 285,
   "metadata": {},
   "outputs": [],
   "source": [
    "data_test=np.array(data_test).reshape(1000,71)\n",
    "#print(data_test)"
   ]
  },
  {
   "cell_type": "markdown",
   "metadata": {},
   "source": [
    "Fit the training data and the training labels, then test for the labels of our test data"
   ]
  },
  {
   "cell_type": "code",
   "execution_count": 273,
   "metadata": {},
   "outputs": [],
   "source": [
    "predict_label=GNBclf.fit(data_train, trainlabel).predict(data_test)\n"
   ]
  },
  {
   "cell_type": "markdown",
   "metadata": {},
   "source": [
    "Print out the predicted labels "
   ]
  },
  {
   "cell_type": "code",
   "execution_count": 286,
   "metadata": {},
   "outputs": [
    {
     "name": "stdout",
     "output_type": "stream",
     "text": [
      "[2 8 8 2 8 2 9 0 9 7 3 0 6 8 0 0 0 2 2 5 7 2 2 9 5 2 8 1 1 0 5 1 8 5 2 9 0\n",
      " 5 7 5 1 2 8 0 2 3 2 3 5 5 8 9 4 5 0 2 8 6 3 2 3 9 3 7 4 1 0 7 9 3 8 5 0 7\n",
      " 3 2 6 2 3 3 1 2 0 7 0 8 2 6 9 7 7 9 4 3 1 2 1 3 5 4 4 4 1 0 3 1 1 0 3 1 9\n",
      " 6 9 9 9 6 9 9 1 2 5 7 0 6 5 0 9 0 2 1 3 1 3 2 2 9 9 5 9 0 7 0 0 2 3 7 5 7\n",
      " 2 4 6 3 2 6 0 2 8 0 0 4 2 9 3 9 5 2 1 9 5 0 5 0 6 0 8 4 5 9 8 4 2 2 6 3 6\n",
      " 3 7 5 2 7 2 9 2 8 2 6 5 3 3 2 1 5 8 9 6 9 5 8 0 1 6 2 7 7 9 7 0 9 6 9 5 8\n",
      " 9 5 7 7 3 9 6 9 1 1 7 5 9 0 9 9 8 0 4 6 1 3 5 8 2 9 2 4 9 9 6 0 2 8 0 9 7\n",
      " 1 8 0 2 1 5 8 5 5 8 3 3 9 0 9 8 8 3 1 5 1 5 9 8 3 1 1 2 2 2 1 7 7 8 1 7 5\n",
      " 2 7 8 5 9 8 8 9 2 0 0 9 5 2 3 8 6 1 0 1 0 5 5 1 5 1 0 6 6 1 9 7 0 1 2 9 0\n",
      " 9 3 9 5 6 7 1 6 3 0 8 9 5 7 9 6 5 9 1 3 9 4 6 5 5 8 8 7 7 8 4 9 2 7 4 2 1\n",
      " 5 5 0 8 2 9 8 9 3 5 6 0 8 0 3 2 0 5 8 2 1 0 0 8 1 4 9 5 9 2 9 7 7 5 7 1 0\n",
      " 3 7 5 9 5 7 8 7 6 0 9 7 3 5 1 8 0 7 6 0 1 5 5 5 1 0 1 9 1 5 0 2 4 0 0 1 0\n",
      " 4 1 2 2 4 5 1 8 9 4 2 2 9 1 3 0 5 4 7 1 8 1 7 7 8 5 3 3 2 9 5 1 3 9 5 5 0\n",
      " 8 3 1 1 7 3 1 4 0 3 0 3 7 0 1 1 5 6 8 9 7 2 8 7 6 4 0 7 0 3 1 9 0 2 6 3 3\n",
      " 7 3 6 1 2 8 5 0 6 2 1 1 2 5 5 5 9 1 7 1 1 5 9 2 6 5 8 6 5 1 9 2 4 3 9 6 9\n",
      " 9 2 8 4 2 9 2 2 3 0 0 9 6 9 7 0 5 3 2 0 3 2 9 4 3 0 3 5 5 5 2 8 2 3 0 1 2\n",
      " 1 8 3 4 8 3 3 3 7 4 3 0 9 0 0 3 2 1 8 3 9 9 4 3 3 7 7 0 2 1 7 0 5 8 5 2 9\n",
      " 3 7 2 0 2 3 1 0 9 0 0 6 2 2 9 6 0 5 3 2 2 6 8 0 7 1 0 1 5 3 0 2 3 0 2 0 4\n",
      " 9 5 3 6 6 9 5 0 8 5 6 5 1 2 4 1 5 0 9 7 1 7 0 3 0 3 9 5 9 6 1 2 6 4 9 7 5\n",
      " 4 1 7 1 5 9 3 6 2 9 8 2 2 8 2 5 9 6 2 5 3 1 0 7 4 9 2 1 4 0 8 4 2 8 3 9 6\n",
      " 6 8 2 8 1 5 0 7 9 1 4 9 7 1 2 4 3 6 3 0 5 6 5 6 5 1 7 1 9 3 0 5 4 4 4 3 3\n",
      " 1 3 7 4 9 7 6 5 0 6 4 9 0 5 5 9 9 0 2 9 0 3 1 3 5 7 7 0 3 0 1 7 3 8 0 4 8\n",
      " 0 2 3 0 2 0 9 1 6 4 7 7 9 0 8 1 7 1 9 2 8 6 9 0 6 1 9 5 3 2 5 5 2 9 0 0 8\n",
      " 0 7 8 0 5 4 0 1 1 2 2 0 6 7 0 5 0 0 3 3 9 5 5 0 8 0 0 9 3 2 6 7 3 9 7 0 5\n",
      " 0 4 9 9 9 4 2 0 2 1 4 0 4 1 6 6 1 8 3 0 2 1 1 7 7 0 7 1 7 5 4 0 9 5 9 4 0\n",
      " 9 7 9 9 9 7 3 5 9 2 2 4 9 3 1 5 3 7 3 9 3 2 4 7 7 5 6 1 0 2 6 6 9 3 3 0 2\n",
      " 7 0 8 2 9 7 1 0 8 9 2 7 3 0 0 2 7 7 9 3 7 8 5 7 7 5 3 1 9 1 7 0 6 1 6 5 3\n",
      " 0]\n"
     ]
    }
   ],
   "source": [
    "#predictlabel=np.array(predict_label).reshape(1000)\n",
    "print(predictlabel)"
   ]
  },
  {
   "cell_type": "markdown",
   "metadata": {},
   "source": [
    "Function to test the accuracy of our model"
   ]
  },
  {
   "cell_type": "code",
   "execution_count": 287,
   "metadata": {},
   "outputs": [],
   "source": [
    "def accuracy(real, predicted):\n",
    "    accuracy=(predicted / real) * 100\n",
    "    return accuracy"
   ]
  },
  {
   "cell_type": "code",
   "execution_count": 288,
   "metadata": {},
   "outputs": [
    {
     "name": "stdout",
     "output_type": "stream",
     "text": [
      "164\n"
     ]
    }
   ],
   "source": [
    "real_values=1000\n",
    "correct=0\n",
    "for i in range(0, 1000):\n",
    "    if predictlabel[i] == testlabel[i]:\n",
    "        correct+=1\n",
    "print(correct)"
   ]
  },
  {
   "cell_type": "code",
   "execution_count": 289,
   "metadata": {},
   "outputs": [
    {
     "name": "stdout",
     "output_type": "stream",
     "text": [
      "16.400000000000002 % accuracy\n"
     ]
    }
   ],
   "source": [
    "print(accuracy(real_values,correct),\"% accuracy\")"
   ]
  },
  {
   "cell_type": "markdown",
   "metadata": {},
   "source": [
    "...sigh..."
   ]
  },
  {
   "cell_type": "markdown",
   "metadata": {},
   "source": [
    "Tried to test using the last 7 features, 15% accuracy was reached $$ $$\n",
    "Tried to test using the first 64 features, still 16,4% was reached"
   ]
  },
  {
   "cell_type": "code",
   "execution_count": null,
   "metadata": {},
   "outputs": [],
   "source": []
  }
 ],
 "metadata": {
  "kernelspec": {
   "display_name": "Python 3",
   "language": "python",
   "name": "python3"
  },
  "language_info": {
   "codemirror_mode": {
    "name": "ipython",
    "version": 3
   },
   "file_extension": ".py",
   "mimetype": "text/x-python",
   "name": "python",
   "nbconvert_exporter": "python",
   "pygments_lexer": "ipython3",
   "version": "3.7.6"
  }
 },
 "nbformat": 4,
 "nbformat_minor": 4
}
